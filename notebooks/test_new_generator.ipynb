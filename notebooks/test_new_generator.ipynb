{
 "cells": [
  {
   "cell_type": "code",
   "execution_count": 1,
   "metadata": {},
   "outputs": [],
   "source": [
    "import tensorflow as tf"
   ]
  },
  {
   "cell_type": "code",
   "execution_count": 2,
   "metadata": {},
   "outputs": [],
   "source": [
    "def create_generator(generator_inputs, generator_outputs_channels):\n",
    "    # 512x512\n",
    "    vgg16 = tf.contrib.keras.applications.VGG16(weights=None, include_top=False, input_tensor=generator_inputs)\n",
    "    cut_model = tf.contrib.keras.models.Sequential(vgg16.layers[:-4])\n",
    "    pool4 = cut_model.output\n",
    "    def padding_conv(inputs, filters, padding, kernel_size):\n",
    "        padding_tensor = tf.constant([[0,0],[padding[0],padding[0]],[padding[1],padding[1]],[0,0]])\n",
    "        x = tf.pad(inputs, padding_tensor)\n",
    "        return tf.layers.conv2d(x, filters, kernel_size, padding='valid')\n",
    "    x1 = padding_conv(pool4, 512, [1, 1], [3, 3])\n",
    "    x2 = padding_conv(pool4, 512, [1, 3], [3, 7])\n",
    "    x3 = padding_conv(pool4, 512, [3, 1], [7, 3])\n",
    "    x = x1+x2+x3\n",
    "    \n",
    "    pool5 = tf.layers.max_pooling2d(x, 2, 2)\n",
    "    fully_convolution1 = tf.layers.conv2d(pool5, 512, 1)\n",
    "    fully_convolution2 = tf.layers.conv2d(fully_convolution1, 512, 1)\n",
    "    \n",
    "    upsample = tf.layers.conv2d_transpose(fully_convolution2, 512, 4, 2, padding='same')\n",
    "    fuse = tf.concat([pool4, upsample], axis=-1)\n",
    "    logits = tf.layers.conv2d(fuse, generator_outputs_channels, 1, 1)\n",
    "    outputs = tf.nn.sigmoid(logits)\n",
    "    return logits, outputs"
   ]
  },
  {
   "cell_type": "code",
   "execution_count": 2,
   "metadata": {},
   "outputs": [],
   "source": [
    "import tensorflow as tf\n",
    "keras = tf.contrib.keras"
   ]
  },
  {
   "cell_type": "code",
   "execution_count": 3,
   "metadata": {},
   "outputs": [],
   "source": [
    "input_tensor = keras.layers.Input(shape=[None,None,3])\n",
    "vgg = keras.applications.VGG16(weights='imagenet', include_top=False, input_tensor=input_tensor)"
   ]
  },
  {
   "cell_type": "code",
   "execution_count": 4,
   "metadata": {},
   "outputs": [],
   "source": [
    "import numpy as np\n",
    "\n",
    "def get_kernel_size(factor):\n",
    "    \"\"\"\n",
    "    Find the kernel size given the desired factor of upsampling.\n",
    "    \"\"\"\n",
    "    return 2 * factor - factor % 2\n",
    "\n",
    "\n",
    "def upsample_filt(size):\n",
    "    \"\"\"\n",
    "    Make a 2D bilinear kernel suitable for upsampling of the given (h, w) size.\n",
    "    \"\"\"\n",
    "    factor = (size + 1) // 2\n",
    "    if size % 2 == 1:\n",
    "        center = factor - 1\n",
    "    else:\n",
    "        center = factor - 0.5\n",
    "    og = np.ogrid[:size, :size]\n",
    "    return (1 - abs(og[0] - center) / factor) * \\\n",
    "           (1 - abs(og[1] - center) / factor)\n",
    "\n",
    "\n",
    "def bilinear_upsample_weights(factor, number_of_classes):\n",
    "    \"\"\"\n",
    "    Create weights matrix for transposed convolution with bilinear filter\n",
    "    initialization.\n",
    "    \"\"\"\n",
    "    \n",
    "    filter_size = get_kernel_size(factor)\n",
    "    \n",
    "    weights = np.zeros((filter_size,\n",
    "                        filter_size,\n",
    "                        number_of_classes,\n",
    "                        number_of_classes), dtype=np.float32)\n",
    "    \n",
    "    upsample_kernel = upsample_filt(filter_size)\n",
    "    \n",
    "    for i in range(number_of_classes):\n",
    "        \n",
    "        weights[:, :, i, i] = upsample_kernel\n",
    "    \n",
    "    return weights"
   ]
  },
  {
   "cell_type": "code",
   "execution_count": 5,
   "metadata": {},
   "outputs": [],
   "source": [
    "upsample_weight_2 = tf.constant(bilinear_upsample_weights(2, 3))\n"
   ]
  },
  {
   "cell_type": "code",
   "execution_count": 6,
   "metadata": {},
   "outputs": [],
   "source": [
    "image = tf.placeholder(tf.float32, shape=[None, None, None, 3])\n",
    "image_shape = tf.shape(image)\n",
    "output_upsample_shape = tf.stack([image_shape[0], \n",
    "                                  image_shape[1] * 2,\n",
    "                                  image_shape[2] * 2, \n",
    "                                  image_shape[3]])\n",
    "upsample_image = tf.nn.conv2d_transpose(image, upsample_weight_2, output_shape=output_upsample_shape, strides=[1,2,2,1])"
   ]
  },
  {
   "cell_type": "code",
   "execution_count": 12,
   "metadata": {},
   "outputs": [
    {
     "name": "stdout",
     "output_type": "stream",
     "text": [
      "(1024, 768, 3)\n",
      "im batch:  (1, 1024, 768, 3)\n",
      "New shape: (2048, 1536, 3)\n"
     ]
    },
    {
     "data": {
      "text/plain": [
       "True"
      ]
     },
     "execution_count": 12,
     "metadata": {},
     "output_type": "execute_result"
    }
   ],
   "source": [
    "import cv2 \n",
    "\n",
    "path = '/Users/macos/Desktop/UNADJUSTEDNONRAW_thumb_1c7.jpg'\n",
    "image_np = cv2.imread(path)\n",
    "print(image_np.shape)\n",
    "image_batch = np.expand_dims(image_np, 0)\n",
    "print('im batch: ', image_batch.shape)\n",
    "sess = tf.InteractiveSession()\n",
    "rv = sess.run(upsample_image, {image:image_batch})\n",
    "upsample_image_np = rv[0]\n",
    "print('New shape:', upsample_image_np.shape)\n",
    "cv2.imwrite('/Users/macos/Desktop/output_img.png', upsample_image_np)"
   ]
  },
  {
   "cell_type": "code",
   "execution_count": null,
   "metadata": {},
   "outputs": [],
   "source": []
  }
 ],
 "metadata": {
  "kernelspec": {
   "display_name": "Python 3",
   "language": "python",
   "name": "python3"
  },
  "language_info": {
   "codemirror_mode": {
    "name": "ipython",
    "version": 3
   },
   "file_extension": ".py",
   "mimetype": "text/x-python",
   "name": "python",
   "nbconvert_exporter": "python",
   "pygments_lexer": "ipython3",
   "version": "3.6.4"
  }
 },
 "nbformat": 4,
 "nbformat_minor": 2
}
