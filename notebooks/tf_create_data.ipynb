{
 "cells": [
  {
   "cell_type": "code",
   "execution_count": 1,
   "metadata": {},
   "outputs": [
    {
     "name": "stderr",
     "output_type": "stream",
     "text": [
      "/Users/macos/miniconda3/lib/python3.6/site-packages/h5py/__init__.py:36: FutureWarning: Conversion of the second argument of issubdtype from `float` to `np.floating` is deprecated. In future, it will be treated as `np.float64 == np.dtype(float).type`.\n",
      "  from ._conv import register_converters as _register_converters\n"
     ]
    }
   ],
   "source": [
    "import tensorflow as tf\n",
    "import cv2"
   ]
  },
  {
   "cell_type": "code",
   "execution_count": 2,
   "metadata": {},
   "outputs": [],
   "source": [
    "sess = tf.Session()\n"
   ]
  },
  {
   "cell_type": "code",
   "execution_count": 17,
   "metadata": {},
   "outputs": [],
   "source": [
    "path = tf.placeholder(tf.string)\n",
    "raw_data = tf.read_file(path)\n",
    "image = tf.image.decode_png(raw_data)\n",
    "w = tf.shape(image)[1]\n",
    "a, b = image[:,:w//2,:], image[:,w//2:,:]\n",
    "k_size=[1, 256, 512, 1]\n",
    "strides = [1,30,30,1]\n",
    "def extract_patches(image):\n",
    "    images = tf.extract_image_patches(tf.expand_dims(image, 0), k_size, strides, rates=[1,1,1,1], padding='SAME')[0]\n",
    "    images_shape = tf.shape(images)\n",
    "    images_reshape = tf.reshape(images, [images_shape[0]*images_shape[1], *k_size[1:3], 3])\n",
    "    return images_reshape\n",
    "patcha = extract_patches(a)\n",
    "patchb = extract_patches(b)\n",
    "output_image = tf.concat([patcha, patchb], axis=2)\n"
   ]
  },
  {
   "cell_type": "code",
   "execution_count": 18,
   "metadata": {},
   "outputs": [],
   "source": [
    "from glob import glob\n",
    "paths = glob('../data/image_20pxline/*.png')"
   ]
  },
  {
   "cell_type": "code",
   "execution_count": 19,
   "metadata": {},
   "outputs": [
    {
     "name": "stdout",
     "output_type": "stream",
     "text": [
      "mkdir: ../data/512x512trainingdata_10pxline/: File exists\r\n"
     ]
    }
   ],
   "source": [
    "!mkdir ../data/512x512trainingdata_10pxline/"
   ]
  },
  {
   "cell_type": "code",
   "execution_count": 20,
   "metadata": {},
   "outputs": [
    {
     "name": "stdout",
     "output_type": "stream",
     "text": [
      "40706\r"
     ]
    }
   ],
   "source": [
    "k = 0\n",
    "for p in paths:\n",
    "    name = p.split('/')[-1].split('.png')[0]\n",
    "    rv = sess.run(output_image, {path:p})\n",
    "    for i, image in enumerate(rv):\n",
    "        rgb = cv2.cvtColor(image, cv2.COLOR_RGB2BGR)\n",
    "        out_path = '../data/512x512trainingdata_10pxline/{}.png'.format(k)\n",
    "        cv2.imwrite(out_path,rgb)\n",
    "        k += 1\n",
    "        print(k, end='\\r')"
   ]
  },
  {
   "cell_type": "code",
   "execution_count": null,
   "metadata": {},
   "outputs": [],
   "source": [
    "!mkdir ../data/512x512trainingdata_10pxline/"
   ]
  },
  {
   "cell_type": "code",
   "execution_count": null,
   "metadata": {},
   "outputs": [],
   "source": []
  },
  {
   "cell_type": "code",
   "execution_count": null,
   "metadata": {},
   "outputs": [],
   "source": [
    "import cv2\n",
    "for i, img in enumerate(rv):\n",
    "    cv2.imwrite('temp/{}.png'.format(i), img)"
   ]
  },
  {
   "cell_type": "code",
   "execution_count": null,
   "metadata": {},
   "outputs": [],
   "source": []
  },
  {
   "cell_type": "code",
   "execution_count": null,
   "metadata": {},
   "outputs": [],
   "source": []
  }
 ],
 "metadata": {
  "kernelspec": {
   "display_name": "Python 3",
   "language": "python",
   "name": "python3"
  },
  "language_info": {
   "codemirror_mode": {
    "name": "ipython",
    "version": 3
   },
   "file_extension": ".py",
   "mimetype": "text/x-python",
   "name": "python",
   "nbconvert_exporter": "python",
   "pygments_lexer": "ipython3",
   "version": "3.6.4"
  }
 },
 "nbformat": 4,
 "nbformat_minor": 2
}
