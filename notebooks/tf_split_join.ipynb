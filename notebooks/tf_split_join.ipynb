{
 "cells": [
  {
   "cell_type": "code",
   "execution_count": 201,
   "metadata": {},
   "outputs": [],
   "source": [
    "import cv2\n",
    "import tensorflow as tf\n",
    "import numpy as np\n",
    "from PIL import Image\n",
    "def read_image(path):\n",
    "    return np.array(Image.open(path))\n",
    "def show(image):\n",
    "    image = image.astype('uint8')\n",
    "    im = Image.fromarray(image)\n",
    "    im.show()"
   ]
  },
  {
   "cell_type": "code",
   "execution_count": 193,
   "metadata": {},
   "outputs": [],
   "source": [
    "def split(image, ksizes, strides):\n",
    "    images = tf.extract_image_patches(image, ksizes=ksizes, strides=strides, padding='SAME', rates=[1,1,1,1])\n",
    "    new_shape = [-1, *images.get_shape().as_list()[1:3], *ksizes[1:3], image.get_shape().as_list()[-1]]\n",
    "    images = tf.reshape(images, new_shape)\n",
    "    return images\n",
    "\n",
    "def join(image, images, ksizes, strides):\n",
    "    def f(images):\n",
    "        cx = ksizes[1] // 2\n",
    "        cy = ksizes[2] // 2\n",
    "        x1 = cx - strides[1]//2\n",
    "        x2 = x1+strides[1]\n",
    "        y1 = cy - strides[2]//2\n",
    "        y2 = y1+strides[2]        \n",
    "        images_croped = images[:,:,:,x1:x2, y1:y2,:]\n",
    "        return images_croped\n",
    "    split_image = tf.split(images, image.get_shape().as_list()[-1], axis=-1)\n",
    "    outputs = [f(img) for img in split_image]\n",
    "    outputs = tf.concat(outputs, axis=-1)\n",
    "    return tf.transpose(outputs, perm=[0,1,3,2,4,5])"
   ]
  },
  {
   "cell_type": "code",
   "execution_count": 198,
   "metadata": {},
   "outputs": [],
   "source": [
    "import math\n",
    "ksizes=[1,100, 200,1]\n",
    "strides = [1, 100, 30, 1]\n",
    "\n",
    "np_image = read_image('0.png')\n",
    "\n",
    "origin_shape = np_image.shape[:2]\n",
    "new_h = math.ceil(origin_shape[0]/ksizes[1])*ksizes[1]\n",
    "new_w = math.ceil(origin_shape[1]/ksizes[2])*ksizes[2]\n",
    "np_image = cv2.resize(np_image, (new_w, new_h))\n",
    "np_image = np.expand_dims(np_image, 0)\n",
    "np_image = np_image[:,:,:,:1]"
   ]
  },
  {
   "cell_type": "code",
   "execution_count": 199,
   "metadata": {},
   "outputs": [],
   "source": [
    "image = tf.placeholder(tf.float32, [None, *np_image.shape[1:]])\n",
    "images = split(image, ksizes, strides)\n",
    "image_out = join(image, images, ksizes, strides)\n",
    "sess = tf.Session()\n",
    "outputs = sess.run(image_out, {image:np_image})\n",
    "output_reshape = outputs.reshape(np_image.shape[1:4])\n",
    "output_reshape = cv2.resize(output_reshape, (origin_shape[1], origin_shape[0]))"
   ]
  },
  {
   "cell_type": "code",
   "execution_count": 200,
   "metadata": {},
   "outputs": [],
   "source": [
    "show(output_reshape)"
   ]
  },
  {
   "cell_type": "code",
   "execution_count": null,
   "metadata": {},
   "outputs": [],
   "source": []
  },
  {
   "cell_type": "code",
   "execution_count": null,
   "metadata": {},
   "outputs": [],
   "source": [
    "path = "
   ]
  },
  {
   "cell_type": "code",
   "execution_count": null,
   "metadata": {},
   "outputs": [],
   "source": []
  },
  {
   "cell_type": "code",
   "execution_count": null,
   "metadata": {},
   "outputs": [],
   "source": []
  }
 ],
 "metadata": {
  "kernelspec": {
   "display_name": "Python 3",
   "language": "python",
   "name": "python3"
  },
  "language_info": {
   "codemirror_mode": {
    "name": "ipython",
    "version": 3
   },
   "file_extension": ".py",
   "mimetype": "text/x-python",
   "name": "python",
   "nbconvert_exporter": "python",
   "pygments_lexer": "ipython3",
   "version": "3.6.4"
  }
 },
 "nbformat": 4,
 "nbformat_minor": 2
}
