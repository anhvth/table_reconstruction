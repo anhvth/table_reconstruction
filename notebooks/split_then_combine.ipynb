{
 "cells": [
  {
   "cell_type": "code",
   "execution_count": 1,
   "metadata": {},
   "outputs": [],
   "source": [
    "import cv2\n",
    "import numpy as np"
   ]
  },
  {
   "cell_type": "code",
   "execution_count": 2,
   "metadata": {},
   "outputs": [],
   "source": [
    "# input image will be [w, h, 3]\n",
    "h = 200\n",
    "w = 1800\n",
    "inputs = np.arange(h*w).reshape(h, w)\n"
   ]
  },
  {
   "cell_type": "code",
   "execution_count": 34,
   "metadata": {},
   "outputs": [],
   "source": [
    "def split(inputs, output_size=(128,1024), strides=[100, 800]):\n",
    "    def padding(pad):\n",
    "        pad_shape = pad.shape[:2]\n",
    "        zero_pad = np.zeros(output_size)\n",
    "        zero_pad[:pad_shape[0], :pad_shape[1]] = pad\n",
    "        return zero_pad\n",
    "    im_shape = inputs.shape[:2]\n",
    "    rv = []\n",
    "    for i in range(0, im_shape[0], strides[0]):\n",
    "        for j in range(0, im_shape[1], strides[1]):\n",
    "            print(i,j,'-->', i+output_size[0], j+output_size[1])\n",
    "            pad = inputs[i:i+output_size[0], j:j+output_size[1]]\n",
    "            pad = padding(pad)\n",
    "            rv.append(pad)\n",
    "            print(pad.shape)\n",
    "            \n",
    "    return rv"
   ]
  },
  {
   "cell_type": "code",
   "execution_count": 35,
   "metadata": {},
   "outputs": [
    {
     "name": "stdout",
     "output_type": "stream",
     "text": [
      "0 0 --> 128 1024\n",
      "(128, 1024)\n",
      "0 800 --> 128 1824\n",
      "(128, 1024)\n",
      "0 1600 --> 128 2624\n",
      "(128, 1024)\n",
      "100 0 --> 228 1024\n",
      "(128, 1024)\n",
      "100 800 --> 228 1824\n",
      "(128, 1024)\n",
      "100 1600 --> 228 2624\n",
      "(128, 1024)\n"
     ]
    }
   ],
   "source": [
    "rv = split(inputs)"
   ]
  },
  {
   "cell_type": "code",
   "execution_count": 18,
   "metadata": {},
   "outputs": [
    {
     "ename": "SyntaxError",
     "evalue": "unexpected EOF while parsing (<ipython-input-18-522fc5eb53d3>, line 1)",
     "output_type": "error",
     "traceback": [
      "\u001b[0;36m  File \u001b[0;32m\"<ipython-input-18-522fc5eb53d3>\"\u001b[0;36m, line \u001b[0;32m1\u001b[0m\n\u001b[0;31m    def join(pads, output_size, strides=[100, 800]):\u001b[0m\n\u001b[0m                                                    ^\u001b[0m\n\u001b[0;31mSyntaxError\u001b[0m\u001b[0;31m:\u001b[0m unexpected EOF while parsing\n"
     ]
    }
   ],
   "source": [
    "def join(pads, output_size, strides=[100, 800]):\n",
    "    "
   ]
  },
  {
   "cell_type": "code",
   "execution_count": 36,
   "metadata": {},
   "outputs": [],
   "source": [
    "def split_image_overlap(image, height=128, width=1024):\n",
    "    rv = []\n",
    "    for i in range(0, image.shape[0], a.stride):\n",
    "        \n",
    "        pad = image[i:i+height]\n",
    "        if pad.shape[0] == height:\n",
    "            rv.append(pad)\n",
    "    return np.array(rv)\n",
    "\n",
    "def join_image_overlap(images):\n",
    "    to_concat = [images[0][:a.stride+a.stride//2]]\n",
    "    for i, image in enumerate(images[1:-1]):\n",
    "        roi = image[a.stride//2:a.stride//2+a.stride]\n",
    "        if False:  # i % 2 == 0:\n",
    "            roi = 255 - roi\n",
    "        to_concat.append(roi)\n",
    "    to_concat.append(images[-1][a.stride//2:])\n",
    "    return np.concatenate(to_concat)"
   ]
  },
  {
   "cell_type": "code",
   "execution_count": null,
   "metadata": {},
   "outputs": [],
   "source": []
  }
 ],
 "metadata": {
  "kernelspec": {
   "display_name": "Python 3",
   "language": "python",
   "name": "python3"
  },
  "language_info": {
   "codemirror_mode": {
    "name": "ipython",
    "version": 3
   },
   "file_extension": ".py",
   "mimetype": "text/x-python",
   "name": "python",
   "nbconvert_exporter": "python",
   "pygments_lexer": "ipython3",
   "version": "3.6.4"
  }
 },
 "nbformat": 4,
 "nbformat_minor": 2
}
