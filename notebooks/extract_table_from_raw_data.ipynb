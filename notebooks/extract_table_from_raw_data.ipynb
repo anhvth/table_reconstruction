{
 "cells": [
  {
   "cell_type": "code",
   "execution_count": 1,
   "metadata": {},
   "outputs": [],
   "source": [
    "import cv2\n",
    "import numpy as np\n",
    "import xml.etree.ElementTree\n",
    "from glob import glob\n",
    "import os\n",
    "from PIL import Image\n",
    "import matplotlib.pyplot as plt"
   ]
  },
  {
   "cell_type": "code",
   "execution_count": 61,
   "metadata": {},
   "outputs": [],
   "source": [
    "def read_xml(xml_path):\n",
    "    from xml.dom import minidom\n",
    "    xmldoc = minidom.parse(xml_path)\n",
    "    itemlist = xmldoc.getElementsByTagName('Coords')\n",
    "#     print(len(itemlist))\n",
    "#     print(itemlist[0].attributes['points'].value)\n",
    "    coord = []\n",
    "    for s in itemlist:\n",
    "#         print(s.attributes['points'].value)\n",
    "        _ = s.attributes['points'].value.split(' ')\n",
    "        x1 = int(_[0].split(',')[0])\n",
    "        x2 = int(_[-1].split(',')[0])\n",
    "        y1 = int(_[0].split(',')[1])\n",
    "        y2 = int(_[-2].split(',')[1])\n",
    "        def swap(x1, x2):\n",
    "            if x1 > x2:\n",
    "                t_ = x1\n",
    "                x1 = x2\n",
    "                x2 = t_\n",
    "            return x1, x2\n",
    "        x1, x2 = swap(x1, x2)\n",
    "        y1, y2 = swap(y1, y2)\n",
    "        \n",
    "        coord.append([x1,x2,y1,y2])\n",
    "    return coord"
   ]
  },
  {
   "cell_type": "code",
   "execution_count": 71,
   "metadata": {},
   "outputs": [],
   "source": [
    "def extract_table(image_path, xml_path):\n",
    "    coord = read_xml(xml_path)\n",
    "    image = cv2.imread(image_path)\n",
    "    tabels = []\n",
    "    for x1, x2, y1, y2 in coord:\n",
    "        tabels.append(image[y1:y2, x1:x2])\n",
    "    return tabels"
   ]
  },
  {
   "cell_type": "code",
   "execution_count": 73,
   "metadata": {},
   "outputs": [
    {
     "data": {
      "text/plain": [
       "238"
      ]
     },
     "execution_count": 73,
     "metadata": {},
     "output_type": "execute_result"
    }
   ],
   "source": [
    "len(img_paths)"
   ]
  },
  {
   "cell_type": "code",
   "execution_count": 75,
   "metadata": {},
   "outputs": [
    {
     "name": "stdout",
     "output_type": "stream",
     "text": [
      " 156"
     ]
    }
   ],
   "source": [
    "xml_paths = glob('data/*.XML') \n",
    "img_paths = glob('data/*.jpg')\n",
    "k = 0\n",
    "save_dir = 'tabels'\n",
    "os.makedirs(save_dir, exist_ok=True)\n",
    "for image_path, xml_path in zip(img_paths, xml_paths):\n",
    "    tabels = extract_table(image_path, xml_path)\n",
    "    name = os.path.split(image_path)[-1]\n",
    "    for i, tabel in enumerate(tabels):\n",
    "        cv2.imwrite('tabels/{}_{}'.format(k, name), tabel)\n",
    "        k += 1\n",
    "        print('\\r {}'.format(k), end='')"
   ]
  },
  {
   "cell_type": "code",
   "execution_count": null,
   "metadata": {},
   "outputs": [],
   "source": []
  },
  {
   "cell_type": "code",
   "execution_count": null,
   "metadata": {},
   "outputs": [],
   "source": []
  },
  {
   "cell_type": "code",
   "execution_count": 7,
   "metadata": {},
   "outputs": [
    {
     "name": "stdout",
     "output_type": "stream",
     "text": [
      "['0_eu-0010001.jpg', '10_eu-0030001.jpg', '119_us-0200005.jpg', '142_us-0320001.jpg', '144_us-0330002.jpg', '145_us-0330002.jpg', '147_us-0340002.jpg', '152_us-0370001.jpg', '155_us-0400002.jpg', '3_eu-0010002.jpg', '7_eu-0020001.jpg']\n"
     ]
    }
   ],
   "source": [
    "paths = glob('tabels/combined_tabel/*.jpg')\n",
    "names = [os.path.split(path)[-1] for path in paths]\n",
    "print(names)"
   ]
  },
  {
   "cell_type": "code",
   "execution_count": 53,
   "metadata": {},
   "outputs": [],
   "source": [
    "def padding(img):\n",
    "    w = img.shape[1]\n",
    "    a = img[:,:w//2]\n",
    "    b = img[:,w//2:]\n",
    "    \n",
    "#     print(a.shape, b.shape)\n",
    "    h, w = a.shape[:2]\n",
    "    b = cv2.resize(b, (w, h))\n",
    "    s_x = np.random.randint(1024 - w)\n",
    "    s_y = np.random.randint(1024 - h)\n",
    "    def _(img):\n",
    "        \n",
    "        pad = np.ones([1024, 1024, 3], dtype=np.uint8)*255\n",
    "        pad[s_y:s_y+h, s_x:s_x+w] = img\n",
    "        return pad\n",
    "    return np.concatenate([_(a), _(b)], axis=1)"
   ]
  },
  {
   "cell_type": "code",
   "execution_count": 65,
   "metadata": {},
   "outputs": [],
   "source": [
    "images = [cv2.imread(path) for path in paths]\n",
    "images_resize = [cv2.resize(img, (0,0), fx=0.5, fy=0.5) for img in images]\n",
    "images_padding = [padding(img) for img in images_resize]"
   ]
  },
  {
   "cell_type": "code",
   "execution_count": 66,
   "metadata": {},
   "outputs": [],
   "source": [
    "images_padding = np.array(images_padding)\n",
    "images_padding = images_padding.reshape([-1, 1024, 2048, 3])"
   ]
  },
  {
   "cell_type": "code",
   "execution_count": 70,
   "metadata": {
    "scrolled": true
   },
   "outputs": [],
   "source": [
    "for i, img in enumerate(images_padding):\n",
    "    cv2.imwrite('{}.png'.format(i),img)"
   ]
  },
  {
   "cell_type": "code",
   "execution_count": null,
   "metadata": {},
   "outputs": [],
   "source": []
  }
 ],
 "metadata": {
  "kernelspec": {
   "display_name": "Python 3",
   "language": "python",
   "name": "python3"
  },
  "language_info": {
   "codemirror_mode": {
    "name": "ipython",
    "version": 3
   },
   "file_extension": ".py",
   "mimetype": "text/x-python",
   "name": "python",
   "nbconvert_exporter": "python",
   "pygments_lexer": "ipython3",
   "version": "3.5.4"
  }
 },
 "nbformat": 4,
 "nbformat_minor": 2
}
